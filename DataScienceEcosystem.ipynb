{
 "cells": [
  {
   "cell_type": "markdown",
   "id": "21ee6ec1-0543-43ef-93c4-71b98fe41b53",
   "metadata": {},
   "source": [
    "##Author\n",
    "Sam"
   ]
  },
  {
   "cell_type": "code",
   "execution_count": null,
   "id": "64a03ad6-b0cd-4a3c-a5db-f89c345a6956",
   "metadata": {},
   "outputs": [],
   "source": [
    "# This is a Python script that demonstrates the Git commands to push a file to GitHub\n",
    "# You would typically run these commands in your terminal/command prompt, not in Python directly\n",
    "\n",
    "import os\n",
    "import subprocess\n",
    "\n",
    "# Function to run git commands\n",
    "def run_command(command):\n",
    "    print(f\"Running: {command}\")\n",
    "    process = subprocess.run(command, shell=True, capture_output=True, text=True)\n",
    "    if process.returncode != 0:\n",
    "        print(f\"Error: {process.stderr}\")\n",
    "        return False\n",
    "    print(f\"Output: {process.stdout}\")\n",
    "    return True\n",
    "\n",
    "# Assuming you're in the directory with your file\n",
    "# 1. Initialize git repository (if not already done)\n",
    "run_command(\"git init\")\n",
    "\n",
    "# 2. Add the file to staging area\n",
    "# Replace \"your_file.ipynb\" with your actual filename\n",
    "run_command(\"git add your_file.ipynb\")\n",
    "\n",
    "# 3. Commit the changes\n",
    "run_command('git commit -m \"Add Jupyter notebook file\"')\n",
    "\n",
    "# 4. Add the remote repository (if not already done)\n",
    "# Replace the URL with your GitHub repository URL\n",
    "run_command(\"git remote add origin https://github.com/yourusername/your-repo.git\")\n",
    "\n",
    "# 5. Push to GitHub\n",
    "run_command(\"git push -u origin main\")  # Use \"master\" instead of \"main\" for older repositories\n",
    "\n",
    "print(\"File should now be pushed to GitHub!\")"
   ]
  }
 ],
 "metadata": {
  "kernelspec": {
   "display_name": "Python [conda env:base] *",
   "language": "python",
   "name": "conda-base-py"
  },
  "language_info": {
   "codemirror_mode": {
    "name": "ipython",
    "version": 3
   },
   "file_extension": ".py",
   "mimetype": "text/x-python",
   "name": "python",
   "nbconvert_exporter": "python",
   "pygments_lexer": "ipython3",
   "version": "3.13.5"
  }
 },
 "nbformat": 4,
 "nbformat_minor": 5
}
